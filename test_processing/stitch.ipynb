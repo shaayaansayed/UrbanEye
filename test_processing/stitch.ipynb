{
 "cells": [
  {
   "cell_type": "code",
   "execution_count": 6,
   "metadata": {
    "collapsed": true
   },
   "outputs": [],
   "source": [
    "import os \n",
    "import glob\n",
    "from skimage.color import label2rgb\n",
    "from scipy.misc import imsave,imread\n",
    "import numpy as np"
   ]
  },
  {
   "cell_type": "code",
   "execution_count": 10,
   "metadata": {
    "collapsed": true
   },
   "outputs": [],
   "source": [
    "city = 'sp15'"
   ]
  },
  {
   "cell_type": "code",
   "execution_count": 13,
   "metadata": {},
   "outputs": [],
   "source": [
    "label_map = np.zeros((224*12, 224*13, 3))\n",
    "sat_map = np.zeros((224*12, 224*13, 3))\n",
    "\n",
    "for r in range(12) :\n",
    "    for c in range(13) :\n",
    "        sat_grid = imread(os.path.join('sp', '{}_{}_{}.jpg'.format(city, r, c)))\n",
    "        label_grid = np.load(os.path.join('sp_outputs', '{}_{}_{}.npy'.format(city, r, c)))\n",
    "        \n",
    "        sat_map[224*r:224*(r+1), 224*c:224*(c+1), :] = sat_grid\n",
    "        label_map[224*r:224*(r+1), 224*c:224*(c+1), :] = label2rgb(label_grid)"
   ]
  },
  {
   "cell_type": "code",
   "execution_count": 14,
   "metadata": {
    "collapsed": true
   },
   "outputs": [],
   "source": [
    "imsave('sp15_satstitch.jpg', sat_map)\n",
    "imsave('sp15_labelstitch.jpg', label_map)"
   ]
  },
  {
   "cell_type": "code",
   "execution_count": null,
   "metadata": {
    "collapsed": true
   },
   "outputs": [],
   "source": []
  }
 ],
 "metadata": {
  "kernelspec": {
   "display_name": "Python 2",
   "language": "python",
   "name": "python2"
  },
  "language_info": {
   "codemirror_mode": {
    "name": "ipython",
    "version": 2
   },
   "file_extension": ".py",
   "mimetype": "text/x-python",
   "name": "python",
   "nbconvert_exporter": "python",
   "pygments_lexer": "ipython2",
   "version": "2.7.13"
  }
 },
 "nbformat": 4,
 "nbformat_minor": 2
}
