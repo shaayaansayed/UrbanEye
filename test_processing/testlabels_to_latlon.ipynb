{
 "cells": [
  {
   "cell_type": "code",
   "execution_count": 1,
   "metadata": {
    "collapsed": true
   },
   "outputs": [],
   "source": [
    "import rasterio\n",
    "import glob\n",
    "import numpy as np\n",
    "import pandas as pd\n",
    "import matplotlib.pyplot as plt\n",
    "from scipy.misc import imsave, imread\n",
    "from skimage.color import label2rgb\n",
    "from shapely.geometry import Point"
   ]
  },
  {
   "cell_type": "code",
   "execution_count": 177,
   "metadata": {
    "collapsed": true
   },
   "outputs": [],
   "source": [
    "NDWI_correct = True"
   ]
  },
  {
   "cell_type": "code",
   "execution_count": 222,
   "metadata": {
    "collapsed": true
   },
   "outputs": [],
   "source": [
    "folders = ['austin13', 'austin14', 'austin15', 'denver13', 'denver14', 'denver15', 'dc13', 'dc14', 'dc15']\n",
    "\n",
    "def is_urban(val) :\n",
    "    return (val==1 or val==2 or val==3)\n",
    "\n",
    "for folder in ['austin13', 'austin14'] :\n",
    "    tif_file = glob.glob('./run2/data/{}/*.tif'.format(folder))[0]\n",
    "    with rasterio.open(tif_file) as f :\n",
    "        bounds = f.bounds\n",
    "        transform = f.transform\n",
    "    labels = glob.glob('./labels/*.npy')\n",
    "    labels = [f for f in labels if folder in f]\n",
    "    \n",
    "    lats = []\n",
    "    lons = []\n",
    "    labels = []\n",
    "    indexes = []\n",
    "    \n",
    "    raster = np.zeros((224*13, 224*15))\n",
    "    fixed = 0\n",
    "    for r in range(13) :\n",
    "        for c in range(15) :\n",
    "            model_labels = np.load('./run2/labels/{}_{}_{}.npy'.format(folder, r, c))\n",
    "            raster[r*224:(r+1)*224, c*224:(c+1)*224] = model_labels\n",
    "#             for r_i in range(0, model_labels.shape[0], 5) :\n",
    "#                 for c_i in range(0, model_labels.shape[1], 6) :\n",
    "#                     lon, lat = transform * (r*224 + r_i, c*224 + c_i)\n",
    "#                     lons.append(lon)\n",
    "#                     lats.append(lat)\n",
    "                    \n",
    "                    # convert to point\n",
    "#                     p = Point([lon, lat])\n",
    "#                     census = filter_(shapefile, sindex, p)\n",
    "                    \n",
    "#                     if not (census.shape[0] > 0) :\n",
    "#                         continue \n",
    "            \n",
    "#                     gdi = float(gdi_df[gdi_df['geoid'] == census.iloc[0]['geoid']]['gdi'])\n",
    "#                     indexes.append(gdi)\n",
    "\n",
    "                    # find index in gdi\n",
    "#                     if NDWI_correct and ndwi[r*224 + r_i, c*224 + c_i] > 0 :\n",
    "#                         labels.append(7)\n",
    "#                         if model_labels[r_i, c_i] != 7 :\n",
    "#                             fixed += 1\n",
    "#                         continue \n",
    "#                     labels.append(model_labels[r_i,c_i])\n",
    "    rasters.append(raster)\n",
    "#     out = pd.DataFrame({'lat': pd.Series(lats), 'lon': pd.Series(lons), 'labels': pd.Series(labels), 'gdi': pd.Series(indexes)})\n",
    "#     out.to_csv('run2/latlon_labels_csv/{}_labels_latlon.csv'.format(folder))\n",
    "#     imsave('run2/cityjpg/{}.jpg'.format(folder), label2rgb(raster))\n",
    "#     print('fixed {} false water labels'.format(fixed))"
   ]
  },
  {
   "cell_type": "code",
   "execution_count": 2,
   "metadata": {
    "collapsed": true
   },
   "outputs": [],
   "source": [
    "def get_rasters(folders) :\n",
    "    rasters = []\n",
    "    for folder in folders :\n",
    "        labels = glob.glob('./labels/*.npy')\n",
    "        labels = [f for f in labels if folder in f]\n",
    "\n",
    "        raster = np.zeros((224*13, 224*15))\n",
    "        fixed = 0\n",
    "        for r in range(13) :\n",
    "            for c in range(15) :\n",
    "                model_labels = np.load('./run2/labels/{}_{}_{}.npy'.format(folder, r, c))\n",
    "                raster[r*224:(r+1)*224, c*224:(c+1)*224] = model_labels\n",
    "        rasters.append(raster)\n",
    "    return rasters"
   ]
  },
  {
   "cell_type": "code",
   "execution_count": 3,
   "metadata": {
    "collapsed": true
   },
   "outputs": [],
   "source": [
    "def is_urban(val) :\n",
    "    return (val==1 or val==2 or val==3)\n",
    "\n",
    "def diff2lonlat(old, cur, transform) :\n",
    "    lats = []\n",
    "    lons = []\n",
    "    change = []\n",
    "    \n",
    "    for r in range(2912) :\n",
    "        for c in range(3360) :\n",
    "            if not is_urban(old[r,c]) and is_urban(cur[r,c]) :\n",
    "                lon, lat = transform * (r, c)\n",
    "                lons.append(lon)\n",
    "                lats.append(lat)\n",
    "                change.append(1)\n",
    "    return lons, lats, change"
   ]
  },
  {
   "cell_type": "code",
   "execution_count": 5,
   "metadata": {
    "collapsed": true
   },
   "outputs": [],
   "source": [
    "def compute_diff_city(cities=['austin13', 'austin14', 'austin15']) :\n",
    "    tif_file = glob.glob('./run2/data/{}/*.tif'.format(cities[0]))[0]\n",
    "    with rasterio.open(tif_file) as f :\n",
    "        transform = f.transform\n",
    "    dfs = []\n",
    "    for i in range(len(cities)-1) :\n",
    "        print('here')\n",
    "        old, cur = get_rasters([cities[i], cities[i+1]])\n",
    "        lons, lats, change = diff2lonlat(old, cur, transform)\n",
    "        instance = pd.DataFrame({'lon':pd.Series(lons), 'lat':pd.Series(lats), 'change':pd.Series(change), 'year':i})\n",
    "        dfs.append(instance)\n",
    "    print(len(dfs))\n",
    "    city_df = pd.concat(dfs)\n",
    "    return city_df"
   ]
  },
  {
   "cell_type": "code",
   "execution_count": 6,
   "metadata": {},
   "outputs": [
    {
     "name": "stdout",
     "output_type": "stream",
     "text": [
      "here\n",
      "here\n",
      "2\n"
     ]
    }
   ],
   "source": [
    "df = compute_diff_city(cities=['dc13', 'dc14', 'dc15'])"
   ]
  },
  {
   "cell_type": "code",
   "execution_count": 7,
   "metadata": {
    "collapsed": true
   },
   "outputs": [],
   "source": [
    "df1 = df[df['year'] == 0].sample(100000)"
   ]
  },
  {
   "cell_type": "code",
   "execution_count": 9,
   "metadata": {},
   "outputs": [],
   "source": [
    "df2 = df[df['year'] == 1]"
   ]
  },
  {
   "cell_type": "code",
   "execution_count": 10,
   "metadata": {
    "collapsed": true
   },
   "outputs": [],
   "source": [
    "df1.to_csv('dc14.csv')"
   ]
  },
  {
   "cell_type": "code",
   "execution_count": 11,
   "metadata": {
    "collapsed": true
   },
   "outputs": [],
   "source": [
    "df2.to_csv('dc15.csv')"
   ]
  },
  {
   "cell_type": "code",
   "execution_count": 249,
   "metadata": {
    "collapsed": true
   },
   "outputs": [],
   "source": [
    "df.to_csv('austin_change.csv')"
   ]
  },
  {
   "cell_type": "code",
   "execution_count": 250,
   "metadata": {},
   "outputs": [
    {
     "data": {
      "text/plain": [
       "1"
      ]
     },
     "execution_count": 250,
     "metadata": {},
     "output_type": "execute_result"
    }
   ],
   "source": [
    "df['year'].max()"
   ]
  },
  {
   "cell_type": "code",
   "execution_count": 251,
   "metadata": {},
   "outputs": [
    {
     "data": {
      "text/plain": [
       "count    1.692850e+06\n",
       "mean     3.880474e-01\n",
       "std      4.873056e-01\n",
       "min      0.000000e+00\n",
       "25%      0.000000e+00\n",
       "50%      0.000000e+00\n",
       "75%      1.000000e+00\n",
       "max      1.000000e+00\n",
       "Name: year, dtype: float64"
      ]
     },
     "execution_count": 251,
     "metadata": {},
     "output_type": "execute_result"
    }
   ],
   "source": [
    "df['year'].describe()"
   ]
  },
  {
   "cell_type": "code",
   "execution_count": 8,
   "metadata": {},
   "outputs": [],
   "source": [
    "folders = ['austin13', 'austin14', 'austin15', 'denver13', 'denver14', 'denver15', 'dc13', 'dc14', 'dc15']\n",
    "\n",
    "def is_urban(val) :\n",
    "    return (val==1 or val==2 or val==3)\n",
    "\n",
    "for folder in ['nairobi_labels'] :\n",
    "    \n",
    "    raster = np.zeros((224*12, 224*12))\n",
    "    fixed = 0\n",
    "    for r in range(12) :\n",
    "        for c in range(12) :\n",
    "            model_labels = np.load('./nairobi_labels/{}_{}.npy'.format(r, c))\n",
    "            raster[r*224:(r+1)*224, c*224:(c+1)*224] = model_labels\n",
    "    imsave('nairobi.jpg', label2rgb(raster))"
   ]
  },
  {
   "cell_type": "code",
   "execution_count": 10,
   "metadata": {},
   "outputs": [],
   "source": [
    "np.save('nairobi', raster)"
   ]
  },
  {
   "cell_type": "code",
   "execution_count": null,
   "metadata": {
    "collapsed": true
   },
   "outputs": [],
   "source": []
  }
 ],
 "metadata": {
  "anaconda-cloud": {},
  "kernelspec": {
   "display_name": "Python 2",
   "language": "python",
   "name": "python2"
  },
  "language_info": {
   "codemirror_mode": {
    "name": "ipython",
    "version": 2
   },
   "file_extension": ".py",
   "mimetype": "text/x-python",
   "name": "python",
   "nbconvert_exporter": "python",
   "pygments_lexer": "ipython2",
   "version": "2.7.13"
  }
 },
 "nbformat": 4,
 "nbformat_minor": 2
}
