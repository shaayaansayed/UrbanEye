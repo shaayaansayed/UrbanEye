{
 "cells": [
  {
   "cell_type": "code",
   "execution_count": 69,
   "metadata": {
    "collapsed": true
   },
   "outputs": [],
   "source": [
    "import os \n",
    "import glob\n",
    "import pandas as pd\n",
    "import rasterio\n",
    "import numpy as np\n",
    "from skimage.color import label2rgb\n",
    "import matplotlib.pyplot as plt\n",
    "\n",
    "%matplotlib inline"
   ]
  },
  {
   "cell_type": "code",
   "execution_count": 1,
   "metadata": {
    "collapsed": true
   },
   "outputs": [],
   "source": [
    "def is_urban(val) :\n",
    "    return (val==1 or val==2 or val==3)"
   ]
  },
  {
   "cell_type": "code",
   "execution_count": 83,
   "metadata": {},
   "outputs": [],
   "source": [
    "def compute_urban_diff(prev, cur, transform, basedir) :\n",
    "    \n",
    "    lats = []\n",
    "    lons = []\n",
    "    for r in range(12) :\n",
    "        for c in range(13) :\n",
    "            prev_labels = np.load(os.path.join(basedir, '{}_{}_{}.npy'.format(prev, r, c))) \n",
    "            cur_labels = np.load(os.path.join(basedir, '{}_{}_{}.npy'.format(cur, r, c)))\n",
    "            for r_ix in range(prev_labels.shape[0]) :\n",
    "                for c_ix in range(prev_labels.shape[1]) :\n",
    "                    if not is_urban(prev_labels[r_ix,c_ix]) and is_urban(cur_labels[r_ix,c_ix]) :\n",
    "                        lon, lat = transform * (r*224 + r_ix, c*224 + c_ix)\n",
    "                        lons.append(lon)\n",
    "                        lats.append(lat)\n",
    "    \n",
    "    return pd.DataFrame({'lat':lats, 'lon':lons})"
   ]
  },
  {
   "cell_type": "code",
   "execution_count": 87,
   "metadata": {
    "collapsed": true
   },
   "outputs": [],
   "source": [
    "# groups = {\n",
    "#     'austin': ['austin13', 'austin14', 'austin15'],\n",
    "#     'dc': ['dc14', 'dc15'],\n",
    "#     'denver': ['denver13', 'denver14', 'denver15'],\n",
    "#     'sp': ['sp14', 'sp15']\n",
    "# }\n",
    "groups = {\n",
    "    'austin': ['austin14', 'austin15']\n",
    "}"
   ]
  },
  {
   "cell_type": "code",
   "execution_count": 89,
   "metadata": {},
   "outputs": [
    {
     "name": "stdout",
     "output_type": "stream",
     "text": [
      "('austin14', 'austin15')\n",
      "470610\n"
     ]
    }
   ],
   "source": [
    "for city, cityears in groups.iteritems() :\n",
    "    tif_file = glob.glob('./cities/{}/*.tif'.format(city + '15'))[0]\n",
    "    with rasterio.open(tif_file) as f :\n",
    "        transform = f.transform\n",
    "    pairs = zip(cityears[:-1], cityears[1:])\n",
    "    base_dir = 'sp_outputs' if city=='sp' else 'kabul,austin,denver,dc_outputs'\n",
    "    for pair in pairs :\n",
    "        print(pair)\n",
    "        df = compute_urban_diff(pair[0], pair[1], transform, base_dir)\n",
    "        print(len(df))\n",
    "        if len(df) < 500000 :\n",
    "            df.to_csv(os.path.join('change_maps', pair[1] + '.csv'))\n",
    "        else :\n",
    "            df.sample(500000).to_csv(os.path.join('change_maps', pair[1] + '.csv'))"
   ]
  },
  {
   "cell_type": "code",
   "execution_count": null,
   "metadata": {
    "collapsed": true
   },
   "outputs": [],
   "source": []
  }
 ],
 "metadata": {
  "kernelspec": {
   "display_name": "Python 2",
   "language": "python",
   "name": "python2"
  },
  "language_info": {
   "codemirror_mode": {
    "name": "ipython",
    "version": 2
   },
   "file_extension": ".py",
   "mimetype": "text/x-python",
   "name": "python",
   "nbconvert_exporter": "python",
   "pygments_lexer": "ipython2",
   "version": "2.7.13"
  }
 },
 "nbformat": 4,
 "nbformat_minor": 2
}
