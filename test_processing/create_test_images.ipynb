{
 "cells": [
  {
   "cell_type": "code",
   "execution_count": 5,
   "metadata": {
    "collapsed": true
   },
   "outputs": [],
   "source": [
    "import rasterio\n",
    "import glob\n",
    "import numpy as np\n",
    "from scipy.misc import imsave\n",
    "import os"
   ]
  },
  {
   "cell_type": "code",
   "execution_count": 12,
   "metadata": {
    "collapsed": true
   },
   "outputs": [],
   "source": [
    "# folders = ['kabul13', 'kabul14', 'kabul15', 'austin13', 'austin14', 'austin15', 'dc14', 'dc15', 'denver13', 'denver14',\n",
    "#           'denver15']\n",
    "folders = ['sp14', 'sp15']"
   ]
  },
  {
   "cell_type": "code",
   "execution_count": 13,
   "metadata": {
    "collapsed": true
   },
   "outputs": [],
   "source": [
    "def save_grids(base, cityear, output_folder) :\n",
    "\n",
    "    raw_tif = glob.glob(os.path.join(base, cityear, '*.tif'))\n",
    "    r = rasterio.open([path for path in raw_tif if '.r.' in path][0]).read()\n",
    "    g = rasterio.open([path for path in raw_tif if '.g.' in path][0]).read()\n",
    "    b = rasterio.open([path for path in raw_tif if '.b.' in path][0]).read()\n",
    "    satellite = np.stack([r, g, b], axis=0).squeeze(1).transpose([1, 2, 0])\n",
    "\n",
    "    height, width = satellite.shape[:2]\n",
    "    r, c = int(height/224.), int(width/224.)\n",
    "\n",
    "    for r_ix in range(r) :\n",
    "        for c_ix in range(c) :\n",
    "            x = satellite[r_ix*224:(r_ix+1)*224, c_ix*224:(c_ix+1)*224]\n",
    "            imsave('{}/{}_{}_{}.jpg'.format(output_folder, cityear, r_ix, c_ix), x)\n",
    "            \n",
    "window = (40, 40) # km\n",
    "for folder in folders :\n",
    "    save_grids('./cities', folder, './sp')"
   ]
  },
  {
   "cell_type": "code",
   "execution_count": null,
   "metadata": {
    "collapsed": true
   },
   "outputs": [],
   "source": []
  }
 ],
 "metadata": {
  "kernelspec": {
   "display_name": "Python 2",
   "language": "python",
   "name": "python2"
  },
  "language_info": {
   "codemirror_mode": {
    "name": "ipython",
    "version": 2
   },
   "file_extension": ".py",
   "mimetype": "text/x-python",
   "name": "python",
   "nbconvert_exporter": "python",
   "pygments_lexer": "ipython2",
   "version": "2.7.13"
  }
 },
 "nbformat": 4,
 "nbformat_minor": 2
}
